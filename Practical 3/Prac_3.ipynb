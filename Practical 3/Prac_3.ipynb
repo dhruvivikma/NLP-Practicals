{
  "nbformat": 4,
  "nbformat_minor": 0,
  "metadata": {
    "colab": {
      "name": "Prac_3.ipynb",
      "provenance": []
    },
    "kernelspec": {
      "name": "python3",
      "display_name": "Python 3"
    },
    "language_info": {
      "name": "python"
    }
  },
  "cells": [
    {
      "cell_type": "markdown",
      "metadata": {
        "id": "EZ4QVjaa--bb"
      },
      "source": [
        "PRACTICAL 3"
      ]
    },
    {
      "cell_type": "code",
      "metadata": {
        "id": "434f924e"
      },
      "source": [
        "#defining a corpus\n",
        "messages = [\"The morning was very good\",\n",
        "           \"The apple pie did not taste good\",\n",
        "           \"Good morning to everyone\"]"
      ],
      "execution_count": null,
      "outputs": []
    },
    {
      "cell_type": "markdown",
      "metadata": {
        "id": "4_HyYbkKG9uD"
      },
      "source": [
        "Count Vectorizer"
      ]
    },
    {
      "cell_type": "code",
      "metadata": {
        "id": "f028675a"
      },
      "source": [
        "from sklearn.feature_extraction.text import CountVectorizer\n",
        "vect = CountVectorizer()"
      ],
      "execution_count": null,
      "outputs": []
    },
    {
      "cell_type": "code",
      "metadata": {
        "id": "954c0dc0"
      },
      "source": [
        "features = vect.fit_transform(messages)"
      ],
      "execution_count": null,
      "outputs": []
    },
    {
      "cell_type": "code",
      "metadata": {
        "colab": {
          "base_uri": "https://localhost:8080/"
        },
        "id": "RedIPwwHCL5d",
        "outputId": "2102c569-1fee-4b4d-d2dd-ec50871bed14"
      },
      "source": [
        "vect.transform(messages).toarray()"
      ],
      "execution_count": null,
      "outputs": [
        {
          "output_type": "execute_result",
          "data": {
            "text/plain": [
              "array([[0, 0, 0, 1, 1, 0, 0, 0, 1, 0, 1, 1],\n",
              "       [1, 1, 0, 1, 0, 1, 1, 1, 1, 0, 0, 0],\n",
              "       [0, 0, 1, 1, 1, 0, 0, 0, 0, 1, 0, 0]])"
            ]
          },
          "metadata": {},
          "execution_count": 23
        }
      ]
    },
    {
      "cell_type": "code",
      "metadata": {
        "colab": {
          "base_uri": "https://localhost:8080/"
        },
        "id": "11a2ea64",
        "outputId": "c5ee2877-3778-46fc-da86-a5aea4258a6f"
      },
      "source": [
        "name = vect.get_feature_names()"
      ],
      "execution_count": null,
      "outputs": [
        {
          "output_type": "stream",
          "name": "stderr",
          "text": [
            "/usr/local/lib/python3.7/dist-packages/sklearn/utils/deprecation.py:87: FutureWarning: Function get_feature_names is deprecated; get_feature_names is deprecated in 1.0 and will be removed in 1.2. Please use get_feature_names_out instead.\n",
            "  warnings.warn(msg, category=FutureWarning)\n"
          ]
        }
      ]
    },
    {
      "cell_type": "code",
      "metadata": {
        "id": "SIGs2dZ5DI-P"
      },
      "source": [
        "dataframe = vect.transform(messages)"
      ],
      "execution_count": null,
      "outputs": []
    },
    {
      "cell_type": "code",
      "metadata": {
        "colab": {
          "base_uri": "https://localhost:8080/",
          "height": 143
        },
        "id": "mBWbXVL_DS-r",
        "outputId": "311a432e-b17d-40dc-c8f5-5b1911f7dd6b"
      },
      "source": [
        "import pandas as pd\n",
        "pd.DataFrame(dataframe.toarray(), columns=name)"
      ],
      "execution_count": null,
      "outputs": [
        {
          "output_type": "execute_result",
          "data": {
            "text/html": [
              "<div>\n",
              "<style scoped>\n",
              "    .dataframe tbody tr th:only-of-type {\n",
              "        vertical-align: middle;\n",
              "    }\n",
              "\n",
              "    .dataframe tbody tr th {\n",
              "        vertical-align: top;\n",
              "    }\n",
              "\n",
              "    .dataframe thead th {\n",
              "        text-align: right;\n",
              "    }\n",
              "</style>\n",
              "<table border=\"1\" class=\"dataframe\">\n",
              "  <thead>\n",
              "    <tr style=\"text-align: right;\">\n",
              "      <th></th>\n",
              "      <th>apple</th>\n",
              "      <th>did</th>\n",
              "      <th>everyone</th>\n",
              "      <th>good</th>\n",
              "      <th>morning</th>\n",
              "      <th>not</th>\n",
              "      <th>pie</th>\n",
              "      <th>taste</th>\n",
              "      <th>the</th>\n",
              "      <th>to</th>\n",
              "      <th>very</th>\n",
              "      <th>was</th>\n",
              "    </tr>\n",
              "  </thead>\n",
              "  <tbody>\n",
              "    <tr>\n",
              "      <th>0</th>\n",
              "      <td>0</td>\n",
              "      <td>0</td>\n",
              "      <td>0</td>\n",
              "      <td>1</td>\n",
              "      <td>1</td>\n",
              "      <td>0</td>\n",
              "      <td>0</td>\n",
              "      <td>0</td>\n",
              "      <td>1</td>\n",
              "      <td>0</td>\n",
              "      <td>1</td>\n",
              "      <td>1</td>\n",
              "    </tr>\n",
              "    <tr>\n",
              "      <th>1</th>\n",
              "      <td>1</td>\n",
              "      <td>1</td>\n",
              "      <td>0</td>\n",
              "      <td>1</td>\n",
              "      <td>0</td>\n",
              "      <td>1</td>\n",
              "      <td>1</td>\n",
              "      <td>1</td>\n",
              "      <td>1</td>\n",
              "      <td>0</td>\n",
              "      <td>0</td>\n",
              "      <td>0</td>\n",
              "    </tr>\n",
              "    <tr>\n",
              "      <th>2</th>\n",
              "      <td>0</td>\n",
              "      <td>0</td>\n",
              "      <td>1</td>\n",
              "      <td>1</td>\n",
              "      <td>1</td>\n",
              "      <td>0</td>\n",
              "      <td>0</td>\n",
              "      <td>0</td>\n",
              "      <td>0</td>\n",
              "      <td>1</td>\n",
              "      <td>0</td>\n",
              "      <td>0</td>\n",
              "    </tr>\n",
              "  </tbody>\n",
              "</table>\n",
              "</div>"
            ],
            "text/plain": [
              "   apple  did  everyone  good  morning  not  pie  taste  the  to  very  was\n",
              "0      0    0         0     1        1    0    0      0    1   0     1    1\n",
              "1      1    1         0     1        0    1    1      1    1   0     0    0\n",
              "2      0    0         1     1        1    0    0      0    0   1     0    0"
            ]
          },
          "metadata": {},
          "execution_count": 26
        }
      ]
    },
    {
      "cell_type": "markdown",
      "metadata": {
        "id": "RGeWtl4ZHF16"
      },
      "source": [
        "Tfidf Vectorizer"
      ]
    },
    {
      "cell_type": "code",
      "metadata": {
        "id": "uAfck8uCDy4_"
      },
      "source": [
        "from sklearn.feature_extraction.text import TfidfVectorizer"
      ],
      "execution_count": null,
      "outputs": []
    },
    {
      "cell_type": "code",
      "metadata": {
        "colab": {
          "base_uri": "https://localhost:8080/",
          "height": 143
        },
        "id": "gbKA9OohDyZu",
        "outputId": "6fd5266b-1677-4531-ccec-9a3b0c83f9ae"
      },
      "source": [
        "vect_tfidf = TfidfVectorizer()\n",
        "dataframe_tfidf = vect_tfidf.fit_transform(messages) # create DTM\n",
        "    \n",
        "    # create pandas dataframe of DTM\n",
        "pd.DataFrame(dataframe_tfidf.toarray(), columns=name) "
      ],
      "execution_count": null,
      "outputs": [
        {
          "output_type": "execute_result",
          "data": {
            "text/html": [
              "<div>\n",
              "<style scoped>\n",
              "    .dataframe tbody tr th:only-of-type {\n",
              "        vertical-align: middle;\n",
              "    }\n",
              "\n",
              "    .dataframe tbody tr th {\n",
              "        vertical-align: top;\n",
              "    }\n",
              "\n",
              "    .dataframe thead th {\n",
              "        text-align: right;\n",
              "    }\n",
              "</style>\n",
              "<table border=\"1\" class=\"dataframe\">\n",
              "  <thead>\n",
              "    <tr style=\"text-align: right;\">\n",
              "      <th></th>\n",
              "      <th>apple</th>\n",
              "      <th>did</th>\n",
              "      <th>everyone</th>\n",
              "      <th>good</th>\n",
              "      <th>morning</th>\n",
              "      <th>not</th>\n",
              "      <th>pie</th>\n",
              "      <th>taste</th>\n",
              "      <th>the</th>\n",
              "      <th>to</th>\n",
              "      <th>very</th>\n",
              "      <th>was</th>\n",
              "    </tr>\n",
              "  </thead>\n",
              "  <tbody>\n",
              "    <tr>\n",
              "      <th>0</th>\n",
              "      <td>0.000000</td>\n",
              "      <td>0.000000</td>\n",
              "      <td>0.000000</td>\n",
              "      <td>0.315444</td>\n",
              "      <td>0.406192</td>\n",
              "      <td>0.000000</td>\n",
              "      <td>0.000000</td>\n",
              "      <td>0.000000</td>\n",
              "      <td>0.406192</td>\n",
              "      <td>0.000000</td>\n",
              "      <td>0.534093</td>\n",
              "      <td>0.534093</td>\n",
              "    </tr>\n",
              "    <tr>\n",
              "      <th>1</th>\n",
              "      <td>0.410747</td>\n",
              "      <td>0.410747</td>\n",
              "      <td>0.000000</td>\n",
              "      <td>0.242594</td>\n",
              "      <td>0.000000</td>\n",
              "      <td>0.410747</td>\n",
              "      <td>0.410747</td>\n",
              "      <td>0.410747</td>\n",
              "      <td>0.312384</td>\n",
              "      <td>0.000000</td>\n",
              "      <td>0.000000</td>\n",
              "      <td>0.000000</td>\n",
              "    </tr>\n",
              "    <tr>\n",
              "      <th>2</th>\n",
              "      <td>0.000000</td>\n",
              "      <td>0.000000</td>\n",
              "      <td>0.584483</td>\n",
              "      <td>0.345205</td>\n",
              "      <td>0.444514</td>\n",
              "      <td>0.000000</td>\n",
              "      <td>0.000000</td>\n",
              "      <td>0.000000</td>\n",
              "      <td>0.000000</td>\n",
              "      <td>0.584483</td>\n",
              "      <td>0.000000</td>\n",
              "      <td>0.000000</td>\n",
              "    </tr>\n",
              "  </tbody>\n",
              "</table>\n",
              "</div>"
            ],
            "text/plain": [
              "      apple       did  everyone  ...        to      very       was\n",
              "0  0.000000  0.000000  0.000000  ...  0.000000  0.534093  0.534093\n",
              "1  0.410747  0.410747  0.000000  ...  0.000000  0.000000  0.000000\n",
              "2  0.000000  0.000000  0.584483  ...  0.584483  0.000000  0.000000\n",
              "\n",
              "[3 rows x 12 columns]"
            ]
          },
          "metadata": {},
          "execution_count": 28
        }
      ]
    }
  ]
}