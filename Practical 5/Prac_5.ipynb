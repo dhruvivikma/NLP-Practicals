{
  "nbformat": 4,
  "nbformat_minor": 0,
  "metadata": {
    "colab": {
      "name": "Prac_5.ipynb",
      "provenance": []
    },
    "kernelspec": {
      "name": "python3",
      "display_name": "Python 3"
    },
    "language_info": {
      "name": "python"
    }
  },
  "cells": [
    {
      "cell_type": "markdown",
      "metadata": {
        "id": "9BToeHYRbtTi"
      },
      "source": [
        "PRACTICAL 5"
      ]
    },
    {
      "cell_type": "code",
      "metadata": {
        "id": "e8KVMgDfbKF6",
        "colab": {
          "base_uri": "https://localhost:8080/"
        },
        "outputId": "d1d84138-42a1-4b92-c4cd-96f17a114808"
      },
      "source": [
        "import pandas as pd\n",
        "from sklearn.feature_extraction.text import TfidfVectorizer\n",
        "import nltk\n",
        "from sklearn.decomposition import TruncatedSVD\n",
        "# If nltk stop word is not downloaded\n",
        "nltk.download('stopwords')\n",
        "from nltk.corpus import stopwords\n",
        "stop_words = stopwords.words('english')"
      ],
      "execution_count": null,
      "outputs": [
        {
          "output_type": "stream",
          "name": "stdout",
          "text": [
            "[nltk_data] Downloading package stopwords to /root/nltk_data...\n",
            "[nltk_data]   Package stopwords is already up-to-date!\n"
          ]
        }
      ]
    },
    {
      "cell_type": "code",
      "metadata": {
        "id": "bSuv4zhsbTgI",
        "colab": {
          "base_uri": "https://localhost:8080/",
          "height": 206
        },
        "outputId": "ecc0515f-f3b0-4982-bf3c-34714a8b9342"
      },
      "source": [
        "# List of documents\n",
        "a1 = \"She is a good girl\"\n",
        "a2 = \"He is a good boy\"\n",
        "a3 = \"The boy and the girl are good\"\n",
        "a4 = \"The boy is intelligent\"\n",
        "a5 = \"The girl is good at sports\"\n",
        "\n",
        "df = pd.DataFrame()\n",
        "df[\"documents\"] = [a1,a2,a3,a4,a5]\n",
        "df.head()\n"
      ],
      "execution_count": null,
      "outputs": [
        {
          "output_type": "execute_result",
          "data": {
            "text/html": [
              "<div>\n",
              "<style scoped>\n",
              "    .dataframe tbody tr th:only-of-type {\n",
              "        vertical-align: middle;\n",
              "    }\n",
              "\n",
              "    .dataframe tbody tr th {\n",
              "        vertical-align: top;\n",
              "    }\n",
              "\n",
              "    .dataframe thead th {\n",
              "        text-align: right;\n",
              "    }\n",
              "</style>\n",
              "<table border=\"1\" class=\"dataframe\">\n",
              "  <thead>\n",
              "    <tr style=\"text-align: right;\">\n",
              "      <th></th>\n",
              "      <th>documents</th>\n",
              "    </tr>\n",
              "  </thead>\n",
              "  <tbody>\n",
              "    <tr>\n",
              "      <th>0</th>\n",
              "      <td>She is a good girl</td>\n",
              "    </tr>\n",
              "    <tr>\n",
              "      <th>1</th>\n",
              "      <td>He is a good boy</td>\n",
              "    </tr>\n",
              "    <tr>\n",
              "      <th>2</th>\n",
              "      <td>The boy and the girl are good</td>\n",
              "    </tr>\n",
              "    <tr>\n",
              "      <th>3</th>\n",
              "      <td>The boy is intelligent</td>\n",
              "    </tr>\n",
              "    <tr>\n",
              "      <th>4</th>\n",
              "      <td>The girl is good at sports</td>\n",
              "    </tr>\n",
              "  </tbody>\n",
              "</table>\n",
              "</div>"
            ],
            "text/plain": [
              "                       documents\n",
              "0             She is a good girl\n",
              "1               He is a good boy\n",
              "2  The boy and the girl are good\n",
              "3         The boy is intelligent\n",
              "4     The girl is good at sports"
            ]
          },
          "metadata": {},
          "execution_count": 52
        }
      ]
    },
    {
      "cell_type": "code",
      "metadata": {
        "id": "wUxTyXEcbabc",
        "colab": {
          "base_uri": "https://localhost:8080/",
          "height": 206
        },
        "outputId": "517494ef-7df3-4e98-99da-0bc6260421a1"
      },
      "source": [
        "# Preprocessing\n",
        "df['clean_documents'] = df['documents'].str.replace(\"[^a-zA-Z#]\", \" \")\n",
        "df['clean_documents'] = df['clean_documents'].fillna('').apply(lambda x: ' '.join([w for w in x.split() if len(w)>2]))\n",
        "df['clean_documents'] = df['clean_documents'].fillna('').apply(lambda x: x.lower())\n",
        "\n",
        "df.head()"
      ],
      "execution_count": null,
      "outputs": [
        {
          "output_type": "execute_result",
          "data": {
            "text/html": [
              "<div>\n",
              "<style scoped>\n",
              "    .dataframe tbody tr th:only-of-type {\n",
              "        vertical-align: middle;\n",
              "    }\n",
              "\n",
              "    .dataframe tbody tr th {\n",
              "        vertical-align: top;\n",
              "    }\n",
              "\n",
              "    .dataframe thead th {\n",
              "        text-align: right;\n",
              "    }\n",
              "</style>\n",
              "<table border=\"1\" class=\"dataframe\">\n",
              "  <thead>\n",
              "    <tr style=\"text-align: right;\">\n",
              "      <th></th>\n",
              "      <th>documents</th>\n",
              "      <th>clean_documents</th>\n",
              "    </tr>\n",
              "  </thead>\n",
              "  <tbody>\n",
              "    <tr>\n",
              "      <th>0</th>\n",
              "      <td>She is a good girl</td>\n",
              "      <td>she good girl</td>\n",
              "    </tr>\n",
              "    <tr>\n",
              "      <th>1</th>\n",
              "      <td>He is a good boy</td>\n",
              "      <td>good boy</td>\n",
              "    </tr>\n",
              "    <tr>\n",
              "      <th>2</th>\n",
              "      <td>The boy and the girl are good</td>\n",
              "      <td>the boy and the girl are good</td>\n",
              "    </tr>\n",
              "    <tr>\n",
              "      <th>3</th>\n",
              "      <td>The boy is intelligent</td>\n",
              "      <td>the boy intelligent</td>\n",
              "    </tr>\n",
              "    <tr>\n",
              "      <th>4</th>\n",
              "      <td>The girl is good at sports</td>\n",
              "      <td>the girl good sports</td>\n",
              "    </tr>\n",
              "  </tbody>\n",
              "</table>\n",
              "</div>"
            ],
            "text/plain": [
              "                       documents                clean_documents\n",
              "0             She is a good girl                  she good girl\n",
              "1               He is a good boy                       good boy\n",
              "2  The boy and the girl are good  the boy and the girl are good\n",
              "3         The boy is intelligent            the boy intelligent\n",
              "4     The girl is good at sports           the girl good sports"
            ]
          },
          "metadata": {},
          "execution_count": 55
        }
      ]
    },
    {
      "cell_type": "code",
      "metadata": {
        "id": "jbyV4FVViHWg",
        "colab": {
          "base_uri": "https://localhost:8080/"
        },
        "outputId": "bfd2503d-8424-489f-d455-e6e496cd8ead"
      },
      "source": [
        "# TF-IDF vector\n",
        "vectorizer = TfidfVectorizer(stop_words='english', smooth_idf=True)\n",
        "X = vectorizer.fit_transform(df['clean_documents'])\n",
        "X.toarray()\n"
      ],
      "execution_count": null,
      "outputs": [
        {
          "output_type": "execute_result",
          "data": {
            "text/plain": [
              "array([[0.        , 0.76524053, 0.64374446, 0.        , 0.        ],\n",
              "       [0.76524053, 0.        , 0.64374446, 0.        , 0.        ],\n",
              "       [0.60771799, 0.60771799, 0.51123153, 0.        , 0.        ],\n",
              "       [0.55645052, 0.        , 0.        , 0.83088075, 0.        ],\n",
              "       [0.        , 0.5039682 , 0.42395393, 0.        , 0.75251519]])"
            ]
          },
          "metadata": {},
          "execution_count": 56
        }
      ]
    },
    {
      "cell_type": "code",
      "metadata": {
        "id": "_o2W2SKJLj1B",
        "colab": {
          "base_uri": "https://localhost:8080/"
        },
        "outputId": "d2950b52-e13f-43db-d81c-86513cd142b7"
      },
      "source": [
        "X.shape \n",
        "#A56   U(5,5). S()"
      ],
      "execution_count": null,
      "outputs": [
        {
          "output_type": "execute_result",
          "data": {
            "text/plain": [
              "(5, 5)"
            ]
          },
          "metadata": {},
          "execution_count": 57
        }
      ]
    },
    {
      "cell_type": "code",
      "metadata": {
        "id": "-zN-Q4IGlj2i"
      },
      "source": [
        "# SVD represent documents and terms in vectors \n",
        "svd_model = TruncatedSVD(n_components=2, algorithm='randomized', n_iter=100, random_state=122)\n",
        "lsa = svd_model.fit_transform(X)\n"
      ],
      "execution_count": null,
      "outputs": []
    },
    {
      "cell_type": "code",
      "metadata": {
        "id": "rBK9p0Wulkw4",
        "colab": {
          "base_uri": "https://localhost:8080/",
          "height": 206
        },
        "outputId": "682b0701-b411-491e-c481-8ec9e8f0196e"
      },
      "source": [
        "#Documents - Topic vector\n",
        "pd.options.display.float_format = '{:,.16f}'.format\n",
        "topic_encoded_df = pd.DataFrame(lsa, columns = [\"topic_1\", \"topic_2\"])\n",
        "topic_encoded_df[\"documents\"] = df['clean_documents']\n",
        "display(topic_encoded_df[[\"documents\", \"topic_1\", \"topic_2\"]])\n"
      ],
      "execution_count": null,
      "outputs": [
        {
          "output_type": "display_data",
          "data": {
            "text/html": [
              "<div>\n",
              "<style scoped>\n",
              "    .dataframe tbody tr th:only-of-type {\n",
              "        vertical-align: middle;\n",
              "    }\n",
              "\n",
              "    .dataframe tbody tr th {\n",
              "        vertical-align: top;\n",
              "    }\n",
              "\n",
              "    .dataframe thead th {\n",
              "        text-align: right;\n",
              "    }\n",
              "</style>\n",
              "<table border=\"1\" class=\"dataframe\">\n",
              "  <thead>\n",
              "    <tr style=\"text-align: right;\">\n",
              "      <th></th>\n",
              "      <th>documents</th>\n",
              "      <th>topic_1</th>\n",
              "      <th>topic_2</th>\n",
              "    </tr>\n",
              "  </thead>\n",
              "  <tbody>\n",
              "    <tr>\n",
              "      <th>0</th>\n",
              "      <td>she good girl</td>\n",
              "      <td>0.8366611711811012</td>\n",
              "      <td>-0.4078846681578382</td>\n",
              "    </tr>\n",
              "    <tr>\n",
              "      <th>1</th>\n",
              "      <td>good boy</td>\n",
              "      <td>0.7866414212292849</td>\n",
              "      <td>0.4081667993574549</td>\n",
              "    </tr>\n",
              "    <tr>\n",
              "      <th>2</th>\n",
              "      <td>the boy and the girl are good</td>\n",
              "      <td>0.9604770446250778</td>\n",
              "      <td>0.0711879205775066</td>\n",
              "    </tr>\n",
              "    <tr>\n",
              "      <th>3</th>\n",
              "      <td>the boy intelligent</td>\n",
              "      <td>0.3580019421318089</td>\n",
              "      <td>0.8135264740657662</td>\n",
              "    </tr>\n",
              "    <tr>\n",
              "      <th>4</th>\n",
              "      <td>the girl good sports</td>\n",
              "      <td>0.6880582107289787</td>\n",
              "      <td>-0.4933275454677810</td>\n",
              "    </tr>\n",
              "  </tbody>\n",
              "</table>\n",
              "</div>"
            ],
            "text/plain": [
              "                       documents            topic_1             topic_2\n",
              "0                  she good girl 0.8366611711811012 -0.4078846681578382\n",
              "1                       good boy 0.7866414212292849  0.4081667993574549\n",
              "2  the boy and the girl are good 0.9604770446250778  0.0711879205775066\n",
              "3            the boy intelligent 0.3580019421318089  0.8135264740657662\n",
              "4           the girl good sports 0.6880582107289787 -0.4933275454677810"
            ]
          },
          "metadata": {}
        }
      ]
    },
    {
      "cell_type": "code",
      "metadata": {
        "id": "77yIqTbemFk3",
        "colab": {
          "base_uri": "https://localhost:8080/"
        },
        "outputId": "de2ffea9-6323-457b-bc09-39fd442d6019"
      },
      "source": [
        "# Features or words used as features \n",
        "dictionary = vectorizer.get_feature_names()"
      ],
      "execution_count": null,
      "outputs": [
        {
          "output_type": "stream",
          "name": "stderr",
          "text": [
            "/usr/local/lib/python3.7/dist-packages/sklearn/utils/deprecation.py:87: FutureWarning: Function get_feature_names is deprecated; get_feature_names is deprecated in 1.0 and will be removed in 1.2. Please use get_feature_names_out instead.\n",
            "  warnings.warn(msg, category=FutureWarning)\n"
          ]
        }
      ]
    },
    {
      "cell_type": "code",
      "metadata": {
        "id": "SN2uU8AQmX-k",
        "colab": {
          "base_uri": "https://localhost:8080/"
        },
        "outputId": "64371207-378c-4dc2-85ec-20f5c2fd5a6b"
      },
      "source": [
        "dictionary"
      ],
      "execution_count": null,
      "outputs": [
        {
          "output_type": "execute_result",
          "data": {
            "text/plain": [
              "['boy', 'girl', 'good', 'intelligent', 'sports']"
            ]
          },
          "metadata": {},
          "execution_count": 61
        }
      ]
    },
    {
      "cell_type": "code",
      "metadata": {
        "id": "ndd5hK6wmbXV"
      },
      "source": [
        "# Term-Topic matrix\n",
        "encoding_matrix = pd.DataFrame(svd_model.components_, index = [\"topic_1\",\"topic_2\"], columns = (dictionary)).T\n"
      ],
      "execution_count": null,
      "outputs": []
    },
    {
      "cell_type": "code",
      "metadata": {
        "id": "1pTPu0xdmjAp",
        "colab": {
          "base_uri": "https://localhost:8080/",
          "height": 206
        },
        "outputId": "1a8d20a6-23bd-4c50-fb52-4a4bf5bfaf6b"
      },
      "source": [
        "encoding_matrix"
      ],
      "execution_count": null,
      "outputs": [
        {
          "output_type": "execute_result",
          "data": {
            "text/html": [
              "<div>\n",
              "<style scoped>\n",
              "    .dataframe tbody tr th:only-of-type {\n",
              "        vertical-align: middle;\n",
              "    }\n",
              "\n",
              "    .dataframe tbody tr th {\n",
              "        vertical-align: top;\n",
              "    }\n",
              "\n",
              "    .dataframe thead th {\n",
              "        text-align: right;\n",
              "    }\n",
              "</style>\n",
              "<table border=\"1\" class=\"dataframe\">\n",
              "  <thead>\n",
              "    <tr style=\"text-align: right;\">\n",
              "      <th></th>\n",
              "      <th>topic_1</th>\n",
              "      <th>topic_2</th>\n",
              "    </tr>\n",
              "  </thead>\n",
              "  <tbody>\n",
              "    <tr>\n",
              "      <th>boy</th>\n",
              "      <td>0.4871340755171591</td>\n",
              "      <td>0.6501547104052317</td>\n",
              "    </tr>\n",
              "    <tr>\n",
              "      <th>girl</th>\n",
              "      <td>0.5524988175834399</td>\n",
              "      <td>-0.4162439368956839</td>\n",
              "    </tr>\n",
              "    <tr>\n",
              "      <th>good</th>\n",
              "      <td>0.6429052340868320</td>\n",
              "      <td>-0.1388096400484909</td>\n",
              "    </tr>\n",
              "    <tr>\n",
              "      <th>intelligent</th>\n",
              "      <td>0.1046310584548834</td>\n",
              "      <td>0.5436972126335118</td>\n",
              "    </tr>\n",
              "    <tr>\n",
              "      <th>sports</th>\n",
              "      <td>0.1821281159769408</td>\n",
              "      <td>-0.2986051947633028</td>\n",
              "    </tr>\n",
              "  </tbody>\n",
              "</table>\n",
              "</div>"
            ],
            "text/plain": [
              "                       topic_1             topic_2\n",
              "boy         0.4871340755171591  0.6501547104052317\n",
              "girl        0.5524988175834399 -0.4162439368956839\n",
              "good        0.6429052340868320 -0.1388096400484909\n",
              "intelligent 0.1046310584548834  0.5436972126335118\n",
              "sports      0.1821281159769408 -0.2986051947633028"
            ]
          },
          "metadata": {},
          "execution_count": 63
        }
      ]
    }
  ]
}