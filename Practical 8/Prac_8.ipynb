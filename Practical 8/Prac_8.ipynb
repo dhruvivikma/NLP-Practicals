{
  "nbformat": 4,
  "nbformat_minor": 0,
  "metadata": {
    "colab": {
      "name": "Prac_8.ipynb",
      "provenance": []
    },
    "kernelspec": {
      "name": "python3",
      "display_name": "Python 3"
    },
    "language_info": {
      "name": "python"
    }
  },
  "cells": [
    {
      "cell_type": "markdown",
      "metadata": {
        "id": "WONzF7Wgka2E"
      },
      "source": [
        "PRACTICAL 8"
      ]
    },
    {
      "cell_type": "code",
      "metadata": {
        "colab": {
          "base_uri": "https://localhost:8080/"
        },
        "id": "mjSokuA2kcbB",
        "outputId": "9b7895e3-e4ef-4cc3-d273-3e678429d35e"
      },
      "source": [
        "import nltk\n",
        "from nltk.corpus import stopwords\n",
        "from nltk.tokenize import word_tokenize, sent_tokenize\n",
        "stop_words = set(stopwords.words('english'))\n",
        "nltk.download('punkt')\n",
        "nltk.download('averaged_perceptron_tagger')"
      ],
      "execution_count": null,
      "outputs": [
        {
          "output_type": "stream",
          "name": "stdout",
          "text": [
            "[nltk_data] Downloading package punkt to /root/nltk_data...\n",
            "[nltk_data]   Package punkt is already up-to-date!\n",
            "[nltk_data] Downloading package averaged_perceptron_tagger to\n",
            "[nltk_data]     /root/nltk_data...\n",
            "[nltk_data]   Unzipping taggers/averaged_perceptron_tagger.zip.\n"
          ]
        },
        {
          "output_type": "execute_result",
          "data": {
            "text/plain": [
              "True"
            ]
          },
          "metadata": {},
          "execution_count": 85
        }
      ]
    },
    {
      "cell_type": "code",
      "metadata": {
        "id": "NTe6z98Hkw2Q"
      },
      "source": [
        "txt = \"\"\"cricket is a very popular sport in india.\n",
        "      rohit sharma and virat kohli play cricket. \n",
        "      Facebook face recognition is driving me crazy. \n",
        "      india won trophy for cricket.\n",
        "      these camera apps are funny.\n",
        "      we need more fast bowlers in cricket.\n",
        "      Google Chrome extensions are useful. \n",
        "      Social Media apps leveraging AI incredibly. \n",
        "      he was the man of the match.\"\"\"\n",
        "  \n",
        "# sent_tokenize is one of instances of\n",
        "# PunktSentenceTokenizer from the nltk.tokenize.punkt module\n",
        "\n",
        "tokenized = sent_tokenize(txt)"
      ],
      "execution_count": null,
      "outputs": []
    },
    {
      "cell_type": "code",
      "metadata": {
        "colab": {
          "base_uri": "https://localhost:8080/"
        },
        "id": "bDh9nvBekz4q",
        "outputId": "c30de011-c325-4376-e125-6df84c173050"
      },
      "source": [
        "for i in tokenized:\n",
        "\n",
        "    # Word tokenizers is used to find the words\n",
        "    # and punctuation in a string\n",
        "    wordsList = nltk.word_tokenize(i)\n",
        "\n",
        "    # removing stop words from wordList\n",
        "    wordsList = [w for w in wordsList if not w in stop_words]\n",
        "\n",
        "    # Using a Tagger. Which is part-of-speech\n",
        "    # tagger or POS-tagger.\n",
        "    tagged = nltk.pos_tag(wordsList)\n",
        "\n",
        "    print(tagged)\n"
      ],
      "execution_count": null,
      "outputs": [
        {
          "output_type": "stream",
          "name": "stdout",
          "text": [
            "[('cricket', 'NN'), ('popular', 'JJ'), ('sport', 'NN'), ('india', 'NN'), ('.', '.')]\n",
            "[('rohit', 'NN'), ('sharma', 'JJ'), ('virat', 'NN'), ('kohli', 'NN'), ('play', 'NN'), ('cricket', 'NN'), ('.', '.')]\n",
            "[('Facebook', 'NNP'), ('face', 'NN'), ('recognition', 'NN'), ('driving', 'VBG'), ('crazy', 'NN'), ('.', '.')]\n",
            "[('india', 'JJ'), ('trophy', 'NN'), ('cricket', 'NN'), ('.', '.')]\n",
            "[('camera', 'NN'), ('apps', 'NN'), ('funny', 'NN'), ('.', '.')]\n",
            "[('need', 'NN'), ('fast', 'JJ'), ('bowlers', 'NNS'), ('cricket', 'NN'), ('.', '.')]\n",
            "[('Google', 'NNP'), ('Chrome', 'NNP'), ('extensions', 'NNS'), ('useful', 'JJ'), ('.', '.')]\n",
            "[('Social', 'JJ'), ('Media', 'NNP'), ('apps', 'NN'), ('leveraging', 'VBG'), ('AI', 'NNP'), ('incredibly', 'RB'), ('.', '.')]\n",
            "[('man', 'NN'), ('match', 'NN'), ('.', '.')]\n"
          ]
        }
      ]
    }
  ]
}