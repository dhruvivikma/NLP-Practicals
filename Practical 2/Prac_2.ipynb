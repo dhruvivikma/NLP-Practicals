{
  "nbformat": 4,
  "nbformat_minor": 0,
  "metadata": {
    "colab": {
      "name": "Prac_2.ipynb",
      "provenance": []
    },
    "kernelspec": {
      "name": "python3",
      "display_name": "Python 3"
    },
    "language_info": {
      "name": "python"
    }
  },
  "cells": [
    {
      "cell_type": "markdown",
      "metadata": {
        "id": "XnDlhXxU1R2m"
      },
      "source": [
        "PRACTICAL 2"
      ]
    },
    {
      "cell_type": "code",
      "metadata": {
        "id": "Lh3Qs1eM1KN5"
      },
      "source": [
        "import re"
      ],
      "execution_count": null,
      "outputs": []
    },
    {
      "cell_type": "code",
      "metadata": {
        "id": "D-WLw83e1U15"
      },
      "source": [
        "def N_Grams(text,n): \n",
        "    # split sentences into tokens\n",
        "    tokens=re.split(\"\\\\s+\",text)\n",
        "    ngrams=[] \n",
        "    # collect the n-grams\n",
        "    for i in range(len(tokens)-n+1):     \n",
        "     temp=[tokens[j] for j in range(i,i+n)]\n",
        "     ngrams.append(\" \".join(temp)) \n",
        "    return ngrams"
      ],
      "execution_count": null,
      "outputs": []
    },
    {
      "cell_type": "code",
      "metadata": {
        "id": "D1rZYn3F1W9q"
      },
      "source": [
        "text1=\"Alice opened the door and found that it led into a small passage\""
      ],
      "execution_count": null,
      "outputs": []
    },
    {
      "cell_type": "code",
      "metadata": {
        "colab": {
          "base_uri": "https://localhost:8080/"
        },
        "id": "v2V9i1QD1Zjg",
        "outputId": "f552a322-d9d3-4d33-f213-ed42bac0143a"
      },
      "source": [
        "# Unigrams N = 1\n",
        "N_Grams(text1,1)"
      ],
      "execution_count": null,
      "outputs": [
        {
          "output_type": "execute_result",
          "data": {
            "text/plain": [
              "['Alice',\n",
              " 'opened',\n",
              " 'the',\n",
              " 'door',\n",
              " 'and',\n",
              " 'found',\n",
              " 'that',\n",
              " 'it',\n",
              " 'led',\n",
              " 'into',\n",
              " 'a',\n",
              " 'small',\n",
              " 'passage']"
            ]
          },
          "metadata": {},
          "execution_count": 20
        }
      ]
    },
    {
      "cell_type": "code",
      "metadata": {
        "colab": {
          "base_uri": "https://localhost:8080/"
        },
        "id": "A6S42IoA1aRo",
        "outputId": "24089a78-ad54-4595-979a-334452bfa53d"
      },
      "source": [
        "# Bigrams N = 2\n",
        "N_Grams(text1,2)"
      ],
      "execution_count": null,
      "outputs": [
        {
          "output_type": "execute_result",
          "data": {
            "text/plain": [
              "['Alice opened',\n",
              " 'opened the',\n",
              " 'the door',\n",
              " 'door and',\n",
              " 'and found',\n",
              " 'found that',\n",
              " 'that it',\n",
              " 'it led',\n",
              " 'led into',\n",
              " 'into a',\n",
              " 'a small',\n",
              " 'small passage']"
            ]
          },
          "metadata": {},
          "execution_count": 21
        }
      ]
    },
    {
      "cell_type": "code",
      "metadata": {
        "colab": {
          "base_uri": "https://localhost:8080/"
        },
        "id": "LNqvTBaL1dq4",
        "outputId": "288dd8f2-a7f6-45d7-e506-a87cf2ca48bb"
      },
      "source": [
        "# Trigrams N = 3\n",
        "N_Grams(text1,3)"
      ],
      "execution_count": null,
      "outputs": [
        {
          "output_type": "execute_result",
          "data": {
            "text/plain": [
              "['Alice opened the',\n",
              " 'opened the door',\n",
              " 'the door and',\n",
              " 'door and found',\n",
              " 'and found that',\n",
              " 'found that it',\n",
              " 'that it led',\n",
              " 'it led into',\n",
              " 'led into a',\n",
              " 'into a small',\n",
              " 'a small passage']"
            ]
          },
          "metadata": {},
          "execution_count": 22
        }
      ]
    }
  ]
}