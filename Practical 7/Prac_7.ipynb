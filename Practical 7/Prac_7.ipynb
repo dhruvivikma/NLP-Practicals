{
  "nbformat": 4,
  "nbformat_minor": 0,
  "metadata": {
    "colab": {
      "name": "Prac_7.ipynb",
      "provenance": []
    },
    "kernelspec": {
      "name": "python3",
      "display_name": "Python 3"
    },
    "language_info": {
      "name": "python"
    }
  },
  "cells": [
    {
      "cell_type": "code",
      "metadata": {
        "id": "poFrrawG3iHe"
      },
      "source": [
        ""
      ],
      "execution_count": null,
      "outputs": []
    },
    {
      "cell_type": "markdown",
      "metadata": {
        "id": "tBsXIbdeiTBA"
      },
      "source": [
        "PRACTICAL 7"
      ]
    },
    {
      "cell_type": "markdown",
      "metadata": {
        "id": "pS_esjfc3jSH"
      },
      "source": [
        "PRACTICAL 7"
      ]
    },
    {
      "cell_type": "code",
      "metadata": {
        "colab": {
          "base_uri": "https://localhost:8080/"
        },
        "id": "fA3_qY7LiU90",
        "outputId": "ad7cec8c-5e8e-4665-ea99-24d9b1e5d33a"
      },
      "source": [
        "from sklearn.feature_extraction.text import TfidfVectorizer\n",
        "from sklearn.cluster import KMeans\n",
        "\n",
        "documents = [\"cricket is a very popular sport in india\",\n",
        "             \"rohit sharma and virat kohli play cricket\",\n",
        "             \"Facebook face recognition is driving me crazy\",\n",
        "             \"india won trophy for cricket\",\n",
        "             \"these camera apps are funny\",\n",
        "             \"we need more fast bowlers in cricket\",\n",
        "             \"Google Chrome extensions are useful.\",\n",
        "             \"Social Media apps leveraging AI incredibly\",\n",
        "             \"he was the man of the match\"]\n",
        "\n",
        "\n",
        "\n",
        "\n",
        "\n",
        " \n",
        "vectorizer = TfidfVectorizer(stop_words = 'english')\n",
        "data = vectorizer.fit_transform(documents)\n",
        " \n",
        "true_k = 2\n",
        "clustering_model = KMeans(n_clusters = true_k, \n",
        "                          init = 'k-means++',\n",
        "                          max_iter = 300, n_init = 10)\n",
        "clustering_model.fit(data)\n",
        "\n",
        "## terms per cluster\n",
        "\n",
        "sorted_centroids = clustering_model.cluster_centers_.argsort()[:, ::-1]\n",
        "terms = vectorizer.get_feature_names()\n",
        "\n",
        "for i in range(true_k):\n",
        "        print(\"Cluster %d:\" % i, end='')\n",
        "        for ind in sorted_centroids[i, :10]:\n",
        "            print(' %s' % terms[ind], end='')\n",
        "        print()\n",
        "        print()\n",
        " \n",
        "print()\n",
        "\n",
        "\n",
        "# Cluster 0: apps google funny camera extensions useful chrome driving face facebook\n",
        "#\n",
        "# Cluster 1: world cup young champions crowned french men qatar fifa played\n",
        "\n",
        "## predicting the cluster of new docs\n",
        "\n",
        "new_doc = [\"how to install Chrome\"]\n",
        "Y = vectorizer.transform(new_doc)\n",
        "prediction = clustering_model.predict(Y)\n",
        "print(prediction)\n",
        "# [0]\n",
        "\n",
        "new_doc = [\"UCL Final match is played in Madrid this year\"]\n",
        "Y = vectorizer.transform(new_doc)\n",
        "prediction = clustering_model.predict(Y)\n",
        "print(prediction)"
      ],
      "execution_count": null,
      "outputs": [
        {
          "output_type": "stream",
          "name": "stdout",
          "text": [
            "Cluster 0: apps match man funny camera extensions useful google chrome recognition\n",
            "\n",
            "Cluster 1: cricket india won trophy sport popular need bowlers fast virat\n",
            "\n",
            "\n",
            "[0]\n",
            "[0]\n"
          ]
        },
        {
          "output_type": "stream",
          "name": "stderr",
          "text": [
            "/usr/local/lib/python3.7/dist-packages/sklearn/utils/deprecation.py:87: FutureWarning: Function get_feature_names is deprecated; get_feature_names is deprecated in 1.0 and will be removed in 1.2. Please use get_feature_names_out instead.\n",
            "  warnings.warn(msg, category=FutureWarning)\n"
          ]
        }
      ]
    }
  ]
}